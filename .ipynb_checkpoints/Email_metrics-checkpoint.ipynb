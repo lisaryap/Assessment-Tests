{
 "cells": [
  {
   "cell_type": "markdown",
   "id": "37477e0e-0957-4cdd-b055-2082b1dadf4f",
   "metadata": {
    "tags": []
   },
   "source": [
    "# Тестовое задание: основные метрики для e-mail рассылок"
   ]
  },
  {
   "cell_type": "markdown",
   "id": "468ca79c-9467-49a0-9da2-410019b533fe",
   "metadata": {},
   "source": [
    "## Задача"
   ]
  },
  {
   "cell_type": "markdown",
   "id": "447e9746-d979-41e5-af46-3ff47a4314c8",
   "metadata": {},
   "source": [
    "На основе тестового набора данных необходимо посчитать следующие метрики:\n",
    "- Delivery rate,\n",
    "- Open rate,\n",
    "- Click to Open rate,\n",
    "- Unsubscribe rate.\n",
    "\n",
    "Также нужно:\n",
    "- выявить лучшую тему,\n",
    "- выявить лучший день недели (для планирования рассылок)."
   ]
  },
  {
   "cell_type": "markdown",
   "id": "91ec5d92-9c56-4f59-b23e-5a3e980aa126",
   "metadata": {},
   "source": [
    "## Загрузка данных"
   ]
  },
  {
   "cell_type": "code",
   "execution_count": 81,
   "id": "4c18216b-d616-4d65-ac0f-05c26a825f01",
   "metadata": {
    "tags": []
   },
   "outputs": [],
   "source": [
    "import warnings\n",
    "warnings.simplefilter(action='ignore', category=FutureWarning)\n",
    "\n",
    "import pandas as pd\n",
    "import numpy as np\n",
    "import missingno as msno\n",
    "import seaborn as sns\n",
    "import matplotlib.pyplot as plt\n",
    "from scipy import stats as st\n",
    "\n",
    "pd.set_option('display.float_format', '{:.2f}'.format) # два знака после точки для float"
   ]
  },
  {
   "cell_type": "code",
   "execution_count": 4,
   "id": "2e78d4af-08d2-40e5-b268-4ca3a45ad4cd",
   "metadata": {
    "tags": []
   },
   "outputs": [
    {
     "data": {
      "text/html": [
       "<div>\n",
       "<style scoped>\n",
       "    .dataframe tbody tr th:only-of-type {\n",
       "        vertical-align: middle;\n",
       "    }\n",
       "\n",
       "    .dataframe tbody tr th {\n",
       "        vertical-align: top;\n",
       "    }\n",
       "\n",
       "    .dataframe thead th {\n",
       "        text-align: right;\n",
       "    }\n",
       "</style>\n",
       "<table border=\"1\" class=\"dataframe\">\n",
       "  <thead>\n",
       "    <tr style=\"text-align: right;\">\n",
       "      <th></th>\n",
       "      <th>Название рассылки</th>\n",
       "      <th>Название кампании</th>\n",
       "      <th>Направление</th>\n",
       "      <th>Месяц</th>\n",
       "      <th>Дата</th>\n",
       "      <th>Год</th>\n",
       "      <th>Номер недели</th>\n",
       "      <th>День недели</th>\n",
       "      <th>День недели.1</th>\n",
       "      <th>Время</th>\n",
       "      <th>...</th>\n",
       "      <th>Доставлено</th>\n",
       "      <th>Открытия</th>\n",
       "      <th>Клики</th>\n",
       "      <th>Баунсы (Все ошибки)</th>\n",
       "      <th>Отписки</th>\n",
       "      <th>UTM Метка</th>\n",
       "      <th>Пользователей на сайте</th>\n",
       "      <th>Воронка продаж. Шаг 1</th>\n",
       "      <th>Воронка продаж. Шаг 2</th>\n",
       "      <th>Воронка продаж. Шаг 3</th>\n",
       "    </tr>\n",
       "  </thead>\n",
       "  <tbody>\n",
       "    <tr>\n",
       "      <th>0</th>\n",
       "      <td>Название рассылки 1</td>\n",
       "      <td>Название кампании 1</td>\n",
       "      <td>Email</td>\n",
       "      <td>Октябрь</td>\n",
       "      <td>2021-10-27</td>\n",
       "      <td>2021</td>\n",
       "      <td>43</td>\n",
       "      <td>3</td>\n",
       "      <td>03-среда</td>\n",
       "      <td>19:24:00</td>\n",
       "      <td>...</td>\n",
       "      <td>741749.55</td>\n",
       "      <td>148349.910</td>\n",
       "      <td>17801.98920</td>\n",
       "      <td>39039.45</td>\n",
       "      <td>7417.4955</td>\n",
       "      <td>Метка 1</td>\n",
       "      <td>16377.830064</td>\n",
       "      <td>6336.582452</td>\n",
       "      <td>6209.850803</td>\n",
       "      <td>5154.176166</td>\n",
       "    </tr>\n",
       "    <tr>\n",
       "      <th>1</th>\n",
       "      <td>Название рассылки 10</td>\n",
       "      <td>Название кампании 10</td>\n",
       "      <td>Email</td>\n",
       "      <td>Ноябрь</td>\n",
       "      <td>2021-11-05</td>\n",
       "      <td>2021</td>\n",
       "      <td>45</td>\n",
       "      <td>5</td>\n",
       "      <td>05-пятница</td>\n",
       "      <td>12:02:00</td>\n",
       "      <td>...</td>\n",
       "      <td>683401.50</td>\n",
       "      <td>123012.270</td>\n",
       "      <td>11071.10430</td>\n",
       "      <td>35968.50</td>\n",
       "      <td>6834.0150</td>\n",
       "      <td>Метка 10</td>\n",
       "      <td>10296.126999</td>\n",
       "      <td>3558.341491</td>\n",
       "      <td>3095.757097</td>\n",
       "      <td>2538.520820</td>\n",
       "    </tr>\n",
       "    <tr>\n",
       "      <th>2</th>\n",
       "      <td>Название рассылки 100</td>\n",
       "      <td>Название кампании 100</td>\n",
       "      <td>Email</td>\n",
       "      <td>Апрель</td>\n",
       "      <td>2022-04-11</td>\n",
       "      <td>2022</td>\n",
       "      <td>15</td>\n",
       "      <td>1</td>\n",
       "      <td>01-понедельник</td>\n",
       "      <td>16:26:00</td>\n",
       "      <td>...</td>\n",
       "      <td>1141344.25</td>\n",
       "      <td>182615.080</td>\n",
       "      <td>15339.66672</td>\n",
       "      <td>60070.75</td>\n",
       "      <td>11413.4425</td>\n",
       "      <td>Метка 100</td>\n",
       "      <td>13959.096715</td>\n",
       "      <td>3369.725947</td>\n",
       "      <td>2864.267055</td>\n",
       "      <td>2262.770973</td>\n",
       "    </tr>\n",
       "    <tr>\n",
       "      <th>3</th>\n",
       "      <td>Название рассылки 101</td>\n",
       "      <td>Название кампании 101</td>\n",
       "      <td>Email</td>\n",
       "      <td>Апрель</td>\n",
       "      <td>2022-04-12</td>\n",
       "      <td>2022</td>\n",
       "      <td>15</td>\n",
       "      <td>2</td>\n",
       "      <td>02-вторник</td>\n",
       "      <td>16:26:00</td>\n",
       "      <td>...</td>\n",
       "      <td>1324135.65</td>\n",
       "      <td>264827.130</td>\n",
       "      <td>10328.25807</td>\n",
       "      <td>69691.35</td>\n",
       "      <td>13241.3565</td>\n",
       "      <td>Метка 101</td>\n",
       "      <td>8985.584521</td>\n",
       "      <td>5116.391826</td>\n",
       "      <td>4277.303567</td>\n",
       "      <td>3207.977675</td>\n",
       "    </tr>\n",
       "    <tr>\n",
       "      <th>4</th>\n",
       "      <td>Название рассылки 102</td>\n",
       "      <td>Название кампании 102</td>\n",
       "      <td>Email</td>\n",
       "      <td>Апрель</td>\n",
       "      <td>2022-04-13</td>\n",
       "      <td>2022</td>\n",
       "      <td>15</td>\n",
       "      <td>3</td>\n",
       "      <td>03-среда</td>\n",
       "      <td>16:26:00</td>\n",
       "      <td>...</td>\n",
       "      <td>1212979.95</td>\n",
       "      <td>218336.391</td>\n",
       "      <td>15720.22015</td>\n",
       "      <td>63841.05</td>\n",
       "      <td>12129.7995</td>\n",
       "      <td>Метка 102</td>\n",
       "      <td>10846.951905</td>\n",
       "      <td>2816.953410</td>\n",
       "      <td>2287.366169</td>\n",
       "      <td>1669.777303</td>\n",
       "    </tr>\n",
       "  </tbody>\n",
       "</table>\n",
       "<p>5 rows × 24 columns</p>\n",
       "</div>"
      ],
      "text/plain": [
       "       Название рассылки      Название кампании Направление    Месяц  \\\n",
       "0    Название рассылки 1    Название кампании 1       Email  Октябрь   \n",
       "1   Название рассылки 10   Название кампании 10       Email   Ноябрь   \n",
       "2  Название рассылки 100  Название кампании 100       Email   Апрель   \n",
       "3  Название рассылки 101  Название кампании 101       Email   Апрель   \n",
       "4  Название рассылки 102  Название кампании 102       Email   Апрель   \n",
       "\n",
       "        Дата   Год  Номер недели  День недели   День недели.1     Время  ...  \\\n",
       "0 2021-10-27  2021            43            3        03-среда  19:24:00  ...   \n",
       "1 2021-11-05  2021            45            5      05-пятница  12:02:00  ...   \n",
       "2 2022-04-11  2022            15            1  01-понедельник  16:26:00  ...   \n",
       "3 2022-04-12  2022            15            2      02-вторник  16:26:00  ...   \n",
       "4 2022-04-13  2022            15            3        03-среда  16:26:00  ...   \n",
       "\n",
       "   Доставлено    Открытия        Клики  Баунсы (Все ошибки)     Отписки  \\\n",
       "0   741749.55  148349.910  17801.98920             39039.45   7417.4955   \n",
       "1   683401.50  123012.270  11071.10430             35968.50   6834.0150   \n",
       "2  1141344.25  182615.080  15339.66672             60070.75  11413.4425   \n",
       "3  1324135.65  264827.130  10328.25807             69691.35  13241.3565   \n",
       "4  1212979.95  218336.391  15720.22015             63841.05  12129.7995   \n",
       "\n",
       "   UTM Метка  Пользователей на сайте  Воронка продаж. Шаг 1  \\\n",
       "0    Метка 1            16377.830064            6336.582452   \n",
       "1   Метка 10            10296.126999            3558.341491   \n",
       "2  Метка 100            13959.096715            3369.725947   \n",
       "3  Метка 101             8985.584521            5116.391826   \n",
       "4  Метка 102            10846.951905            2816.953410   \n",
       "\n",
       "   Воронка продаж. Шаг 2 Воронка продаж. Шаг 3  \n",
       "0            6209.850803           5154.176166  \n",
       "1            3095.757097           2538.520820  \n",
       "2            2864.267055           2262.770973  \n",
       "3            4277.303567           3207.977675  \n",
       "4            2287.366169           1669.777303  \n",
       "\n",
       "[5 rows x 24 columns]"
      ]
     },
     "execution_count": 4,
     "metadata": {},
     "output_type": "execute_result"
    }
   ],
   "source": [
    "df = pd.read_excel('https://docs.google.com/spreadsheets/d/' + \n",
    "                   '1kd_g0P04hmV7jtyxR886AYQxxIoPPXbRIPV3hwCqhPs' +\n",
    "                   '/export?gid=0&format=xlsx',\n",
    "                     sheet_name='Data',parse_dates=['Дата'])\n",
    "df.head()"
   ]
  },
  {
   "cell_type": "markdown",
   "id": "ec641563-c943-498d-8750-ba2dde17370e",
   "metadata": {},
   "source": [
    "## Предварительная обработка"
   ]
  },
  {
   "cell_type": "code",
   "execution_count": 5,
   "id": "c6889e03-86a8-4213-a5f0-be5b319efeeb",
   "metadata": {
    "tags": []
   },
   "outputs": [
    {
     "name": "stdout",
     "output_type": "stream",
     "text": [
      "<class 'pandas.core.frame.DataFrame'>\n",
      "RangeIndex: 218 entries, 0 to 217\n",
      "Data columns (total 24 columns):\n",
      " #   Column                  Non-Null Count  Dtype         \n",
      "---  ------                  --------------  -----         \n",
      " 0   Название рассылки       218 non-null    object        \n",
      " 1   Название кампании       218 non-null    object        \n",
      " 2   Направление             218 non-null    object        \n",
      " 3   Месяц                   218 non-null    object        \n",
      " 4   Дата                    218 non-null    datetime64[ns]\n",
      " 5   Год                     218 non-null    int64         \n",
      " 6   Номер недели            218 non-null    int64         \n",
      " 7   День недели             218 non-null    int64         \n",
      " 8   День недели.1           218 non-null    object        \n",
      " 9   Время                   218 non-null    object        \n",
      " 10  Веб-версия              218 non-null    object        \n",
      " 11  Тема письма             218 non-null    object        \n",
      " 12  Сегмент                 218 non-null    object        \n",
      " 13  Отправлено              218 non-null    int64         \n",
      " 14  Доставлено              218 non-null    float64       \n",
      " 15  Открытия                218 non-null    float64       \n",
      " 16  Клики                   218 non-null    float64       \n",
      " 17  Баунсы (Все ошибки)     218 non-null    float64       \n",
      " 18  Отписки                 218 non-null    float64       \n",
      " 19  UTM Метка               218 non-null    object        \n",
      " 20  Пользователей на сайте  218 non-null    float64       \n",
      " 21  Воронка продаж. Шаг 1   218 non-null    float64       \n",
      " 22  Воронка продаж. Шаг 2   218 non-null    float64       \n",
      " 23  Воронка продаж. Шаг 3   218 non-null    float64       \n",
      "dtypes: datetime64[ns](1), float64(9), int64(4), object(10)\n",
      "memory usage: 41.0+ KB\n"
     ]
    }
   ],
   "source": [
    "df.info()"
   ]
  },
  {
   "cell_type": "markdown",
   "id": "727d3210-3e3c-430a-8ea5-67764b2e0a83",
   "metadata": {},
   "source": [
    "Пропусков в данных нет, типы данных корректные (разве что можно `Время` перевести в `datetime`, но для этой задачи в этом нет необходимости).\n",
    "\n",
    "Проверим, есть ли дубликаты."
   ]
  },
  {
   "cell_type": "code",
   "execution_count": 8,
   "id": "b1888bff-6263-4a94-889e-055d17cba6ea",
   "metadata": {
    "tags": []
   },
   "outputs": [
    {
     "data": {
      "text/plain": [
       "0"
      ]
     },
     "execution_count": 8,
     "metadata": {},
     "output_type": "execute_result"
    }
   ],
   "source": [
    "df.duplicated(subset=['Название рассылки']).sum()"
   ]
  },
  {
   "cell_type": "code",
   "execution_count": 9,
   "id": "07a7ca0b-3e58-4401-8669-f57e68d782da",
   "metadata": {
    "tags": []
   },
   "outputs": [
    {
     "data": {
      "text/plain": [
       "0"
      ]
     },
     "execution_count": 9,
     "metadata": {},
     "output_type": "execute_result"
    }
   ],
   "source": [
    "df.duplicated(subset=['UTM Метка']).sum()"
   ]
  },
  {
   "cell_type": "markdown",
   "id": "5f77e647-aef2-44ec-ac71-fd0956c09bd4",
   "metadata": {},
   "source": [
    "Явных дубликатов тоже нет.\n",
    "\n",
    "Избавимся от лишних пробелов в конце названий столбцов."
   ]
  },
  {
   "cell_type": "code",
   "execution_count": 57,
   "id": "fedfc95f-484c-4680-aca2-30b0b16cc61b",
   "metadata": {
    "tags": []
   },
   "outputs": [
    {
     "data": {
      "text/plain": [
       "Index(['Название рассылки', 'Название кампании', 'Направление', 'Месяц',\n",
       "       'Дата', 'Год', 'Номер недели', 'День недели', 'День недели.1', 'Время',\n",
       "       'Веб-версия', 'Тема письма', 'Сегмент', 'Отправлено', 'Доставлено',\n",
       "       'Открытия', 'Клики', 'Баунсы (Все ошибки)', 'Отписки', 'UTM Метка',\n",
       "       'Пользователей на сайте', 'Воронка продаж. Шаг 1',\n",
       "       'Воронка продаж. Шаг 2', 'Воронка продаж. Шаг 3', 'Delivery rate',\n",
       "       'Open rate', 'CTOR', 'Unsubscribe rate'],\n",
       "      dtype='object')"
      ]
     },
     "execution_count": 57,
     "metadata": {},
     "output_type": "execute_result"
    }
   ],
   "source": [
    "df.columns = [x.strip() for x in df.columns]\n",
    "df.columns"
   ]
  },
  {
   "cell_type": "markdown",
   "id": "1dce983e-e78b-45f6-a75a-6021a2aac91a",
   "metadata": {},
   "source": [
    "## Исследовательский анализ данных"
   ]
  },
  {
   "cell_type": "markdown",
   "id": "3eb17e93-9e15-437e-b195-55d40a1e7a0f",
   "metadata": {},
   "source": [
    "### Метрики"
   ]
  },
  {
   "cell_type": "code",
   "execution_count": 11,
   "id": "aa1bf533-e735-45ac-ac00-3e621d555da4",
   "metadata": {
    "tags": []
   },
   "outputs": [],
   "source": [
    "df['Delivery rate'] = df['Доставлено']/df['Отправлено'] * 100\n",
    "df['Open rate'] = df['Открытия']/df['Доставлено'] * 100\n",
    "df['CTOR'] = df['Клики']/df['Открытия'] * 100\n",
    "df['Unsubscribe rate'] = df['Отписки']/df['Отправлено'] * 100"
   ]
  },
  {
   "cell_type": "code",
   "execution_count": 76,
   "id": "ec822727-dae6-4f78-818a-fea7d361030c",
   "metadata": {
    "tags": []
   },
   "outputs": [
    {
     "data": {
      "image/png": "[encoded data removed]",
      "text/plain": [
       "<Figure size 1500x400 with 1 Axes>"
      ]
     },
     "metadata": {},
     "output_type": "display_data"
    }
   ],
   "source": [
    "dfm = df[['Дата', 'Delivery rate','Open rate','CTOR','Unsubscribe rate']].melt(id_vars='Дата', var_name='Metric_name', value_name='Metric')\n",
    "\n",
    "# Зададим цветовую схему графика\n",
    "sns.set_style('darkgrid')\n",
    "\n",
    "# Покажем динамику метрик на графике\n",
    "fig, ax = plt.subplots(figsize=(15, 4))\n",
    "sns.lineplot(data=dfm, x='Дата', y='Metric', hue='Metric_name')\n",
    "ax.legend(bbox_to_anchor=(1.02, 1), loc='upper left', borderaxespad=0)\n",
    "plt.xlabel('Дата')\n",
    "plt.ylabel('%')\n",
    "plt.title('Основные метрики');"
   ]
  },
  {
   "cell_type": "markdown",
   "id": "b8628676-936d-4ba4-8a35-5404b4a6c407",
   "metadata": {
    "tags": []
   },
   "source": [
    "### Лучшая тема"
   ]
  },
  {
   "cell_type": "markdown",
   "id": "526c5fed-b78b-47b5-b412-1284ca8705ef",
   "metadata": {},
   "source": [
    "Для начала определимся, что значит \"лучшая\" тема. Когда получатель решает, открыть письмо или нет, он видит только его тему. Значит, по значению метрики `Open rate` мы можем судить о привлекательности темы.\n",
    "\n",
    "Найдём тему письма с самым высоким значением `Open rate`."
   ]
  },
  {
   "cell_type": "code",
   "execution_count": 63,
   "id": "e42c8e72-49a9-45f6-b40c-2d26d8e64d89",
   "metadata": {
    "tags": []
   },
   "outputs": [
    {
     "data": {
      "text/html": [
       "<div>\n",
       "<style scoped>\n",
       "    .dataframe tbody tr th:only-of-type {\n",
       "        vertical-align: middle;\n",
       "    }\n",
       "\n",
       "    .dataframe tbody tr th {\n",
       "        vertical-align: top;\n",
       "    }\n",
       "\n",
       "    .dataframe thead th {\n",
       "        text-align: right;\n",
       "    }\n",
       "</style>\n",
       "<table border=\"1\" class=\"dataframe\">\n",
       "  <thead>\n",
       "    <tr style=\"text-align: right;\">\n",
       "      <th></th>\n",
       "      <th>Тема письма</th>\n",
       "      <th>Open rate</th>\n",
       "    </tr>\n",
       "  </thead>\n",
       "  <tbody>\n",
       "    <tr>\n",
       "      <th>0</th>\n",
       "      <td>Тема письма 1</td>\n",
       "      <td>20.0</td>\n",
       "    </tr>\n",
       "    <tr>\n",
       "      <th>3</th>\n",
       "      <td>Тема письма 101</td>\n",
       "      <td>20.0</td>\n",
       "    </tr>\n",
       "  </tbody>\n",
       "</table>\n",
       "</div>"
      ],
      "text/plain": [
       "       Тема письма  Open rate\n",
       "0    Тема письма 1       20.0\n",
       "3  Тема письма 101       20.0"
      ]
     },
     "execution_count": 63,
     "metadata": {},
     "output_type": "execute_result"
    }
   ],
   "source": [
    "df[['Тема письма','Open rate']].loc[df['Open rate']==df['Open rate'].max()]"
   ]
  },
  {
   "cell_type": "markdown",
   "id": "0e8c8ea7-e0e4-499f-8885-c68be2721046",
   "metadata": {},
   "source": [
    "**Вывод:** Лучшие темы - \"Тема письма1\" и \"Тема письма 101\"."
   ]
  },
  {
   "cell_type": "markdown",
   "id": "3d1c23ee-9e9a-43ab-b7ed-afbe89ebe6ca",
   "metadata": {},
   "source": [
    "### Лучший день недели"
   ]
  },
  {
   "cell_type": "markdown",
   "id": "644f889d-bef7-4ca1-a586-289409b32cbc",
   "metadata": {},
   "source": [
    "Лучший день недели - это день, когда получатели больше склонны открывать письма и переходить по ссылкам. Посмотрим, есть ли различия в `Open rate` и `CTOR` по дням недели."
   ]
  },
  {
   "cell_type": "code",
   "execution_count": 77,
   "id": "d6bb5ed3-e13a-417b-9b22-27a00e6a254f",
   "metadata": {
    "tags": []
   },
   "outputs": [
    {
     "data": {
      "text/html": [
       "<div>\n",
       "<style scoped>\n",
       "    .dataframe tbody tr th:only-of-type {\n",
       "        vertical-align: middle;\n",
       "    }\n",
       "\n",
       "    .dataframe tbody tr th {\n",
       "        vertical-align: top;\n",
       "    }\n",
       "\n",
       "    .dataframe thead th {\n",
       "        text-align: right;\n",
       "    }\n",
       "</style>\n",
       "<table border=\"1\" class=\"dataframe\">\n",
       "  <thead>\n",
       "    <tr style=\"text-align: right;\">\n",
       "      <th></th>\n",
       "      <th>Open rate</th>\n",
       "      <th>CTOR</th>\n",
       "    </tr>\n",
       "    <tr>\n",
       "      <th>День недели</th>\n",
       "      <th></th>\n",
       "      <th></th>\n",
       "    </tr>\n",
       "  </thead>\n",
       "  <tbody>\n",
       "    <tr>\n",
       "      <th>1</th>\n",
       "      <td>13.59</td>\n",
       "      <td>8.14</td>\n",
       "    </tr>\n",
       "    <tr>\n",
       "      <th>2</th>\n",
       "      <td>13.49</td>\n",
       "      <td>8.98</td>\n",
       "    </tr>\n",
       "    <tr>\n",
       "      <th>3</th>\n",
       "      <td>14.33</td>\n",
       "      <td>8.01</td>\n",
       "    </tr>\n",
       "    <tr>\n",
       "      <th>4</th>\n",
       "      <td>13.70</td>\n",
       "      <td>7.91</td>\n",
       "    </tr>\n",
       "    <tr>\n",
       "      <th>5</th>\n",
       "      <td>13.66</td>\n",
       "      <td>8.13</td>\n",
       "    </tr>\n",
       "    <tr>\n",
       "      <th>6</th>\n",
       "      <td>13.80</td>\n",
       "      <td>6.84</td>\n",
       "    </tr>\n",
       "  </tbody>\n",
       "</table>\n",
       "</div>"
      ],
      "text/plain": [
       "             Open rate  CTOR\n",
       "День недели                 \n",
       "1                13.59  8.14\n",
       "2                13.49  8.98\n",
       "3                14.33  8.01\n",
       "4                13.70  7.91\n",
       "5                13.66  8.13\n",
       "6                13.80  6.84"
      ]
     },
     "execution_count": 77,
     "metadata": {},
     "output_type": "execute_result"
    }
   ],
   "source": [
    "df.groupby(by='День недели')[['Open rate','CTOR']].mean()"
   ]
  },
  {
   "cell_type": "code",
   "execution_count": 73,
   "id": "40e4b186-c347-4db2-aca9-0ca0036e39e7",
   "metadata": {
    "tags": []
   },
   "outputs": [
    {
     "data": {
      "image/png": "[encoded data removed]",
      "text/plain": [
       "<Figure size 800x400 with 1 Axes>"
      ]
     },
     "metadata": {},
     "output_type": "display_data"
    }
   ],
   "source": [
    "dfm0 = df[['День недели', 'Open rate','CTOR']].melt(id_vars='День недели', var_name='Metric_name', value_name='Metric')\n",
    "fig, ax = plt.subplots(figsize=(8, 4))\n",
    "ax = sns.barplot(x='День недели', \n",
    "                 y='Metric', \n",
    "                 data=dfm0, \n",
    "                 hue='Metric_name')\n",
    "plt.xlabel('День недели')\n",
    "plt.ylabel('%')\n",
    "ax.legend(bbox_to_anchor=(1.02, 1), loc='upper left', borderaxespad=0)\n",
    "plt.title('Open rate и CTOR по дням недели');"
   ]
  },
  {
   "cell_type": "markdown",
   "id": "917111f8-6415-492c-8bfa-118384e08958",
   "metadata": {},
   "source": [
    "Больше писем открывают **в среду**, но по ссылкам переходят больше **во вторник**. Поскольку переход по ссылке - более значимое действие для бизнеса, то и день с более высоким CTOR будет приоритетнее. Однако нужно проверить, является ли значимой разница между средним CTOR во вторник и средним CTOR в другие дни. Сделаем такую же проверку и для Open rate в среду и в другие дни."
   ]
  },
  {
   "cell_type": "markdown",
   "id": "f8b87055-5f28-4808-b25f-32f7ad3794ca",
   "metadata": {},
   "source": [
    "### Проверка гипотез"
   ]
  },
  {
   "cell_type": "markdown",
   "id": "577c4b1f-ed38-42d0-9534-485c5184d1af",
   "metadata": {},
   "source": [
    "#### Гипотеза 1: Средний CTOR по вторникам не отличается от среднего CTOR в другие дни недели"
   ]
  },
  {
   "cell_type": "markdown",
   "id": "c0b62051-a086-4c5a-aca8-d8ebb8059bf3",
   "metadata": {},
   "source": [
    "Посчитаем средние CTOR для вторников и для всех остальных дней недели:"
   ]
  },
  {
   "cell_type": "code",
   "execution_count": 79,
   "id": "25618c2f-a091-43a7-a72b-fa490bbfaf2d",
   "metadata": {
    "tags": []
   },
   "outputs": [
    {
     "data": {
      "text/plain": [
       "8.976000000337098"
      ]
     },
     "execution_count": 79,
     "metadata": {},
     "output_type": "execute_result"
    }
   ],
   "source": [
    "df.loc[df['День недели']==2, 'CTOR'].mean()"
   ]
  },
  {
   "cell_type": "code",
   "execution_count": 80,
   "id": "2d4a7bb8-5cd0-4582-922c-aa4437d904ec",
   "metadata": {
    "tags": []
   },
   "outputs": [
    {
     "data": {
      "text/plain": [
       "8.012953367582314"
      ]
     },
     "execution_count": 80,
     "metadata": {},
     "output_type": "execute_result"
    }
   ],
   "source": [
    "df.loc[df['День недели']!=2, 'CTOR'].mean()"
   ]
  },
  {
   "cell_type": "markdown",
   "id": "ce91a6c7-06ba-4b3a-9afe-6154633651eb",
   "metadata": {},
   "source": [
    "Сформулируем нулевую и альтернативную гипотезы и зададим пороговое значение *alpha*:\n",
    "```\n",
    "H_0: Средний CTOR по вторникам = Средний CTOR в другие дни`\n",
    "H_a: Средний CTOR по вторникам ≠ Средний CTOR в другие дни`\n",
    "alpha = 0.05\n",
    "```\n",
    "\n",
    "*Нулевая гипотеза* выражает предположение, что различия между средними значениями двух совокупностей имеют случайный характер. *Альтернативная гипотеза* предполагает, что между средними значениями двух совокупностей есть достоверные различия.\n",
    "\n",
    "Для проверки правдоподобия гипотез используем t-критерий Стьюдента, а именно двухвыборочный t-критерий для независимых выборок, так как реакция получателей на одни рассылки не связана с реакцией получателей на другие рассылки."
   ]
  },
  {
   "cell_type": "code",
   "execution_count": 84,
   "id": "d313d30b-2073-4308-a422-aa72e41afaeb",
   "metadata": {
    "tags": []
   },
   "outputs": [
    {
     "name": "stdout",
     "output_type": "stream",
     "text": [
      "p-value: 0.11971824451880463\n",
      "Не получилось отвергнуть нулевую гипотезу\n"
     ]
    }
   ],
   "source": [
    "# results = вызов метода для проверки гипотезы\n",
    "results = st.ttest_ind(df.loc[df['День недели']==2, 'CTOR'], \n",
    "                       df.loc[df['День недели']!=2, 'CTOR'],\n",
    "                      equal_var=False)\n",
    "\n",
    "# alpha = зададим значение уровня значимости\n",
    "alpha = .05\n",
    "\n",
    "# вывод значения p-value на экран \n",
    "print('p-value:', results.pvalue)\n",
    "# условный оператор с выводом строки с ответом\n",
    "if results.pvalue < alpha:\n",
    "    print('Отвергаем нулевую гипотезу')\n",
    "# если p-value окажется меньше него, отвергнем гипотезу\n",
    "else:\n",
    "    print('Не получилось отвергнуть нулевую гипотезу') "
   ]
  },
  {
   "cell_type": "markdown",
   "id": "1561d54a-1fd8-4c65-ae87-6cb3f273a4fb",
   "metadata": {},
   "source": [
    "Нулевая гипотеза не отвергается, значит нельзя сделать вывод, что средние значения CTOR во вторник и в другие дни отличаются."
   ]
  },
  {
   "cell_type": "markdown",
   "id": "c6f98301-89f4-4c9f-905a-373c46032e8f",
   "metadata": {},
   "source": [
    "#### Гипотеза 2: Средний Open rate по средам не отличается от среднего Open rate в другие дни недели\n",
    "Посчитаем средние Open rate для сред и для остальных дней недели."
   ]
  },
  {
   "cell_type": "code",
   "execution_count": 85,
   "id": "39c57570-2df5-401b-a30e-fce754855f9b",
   "metadata": {
    "tags": []
   },
   "outputs": [
    {
     "data": {
      "text/plain": [
       "14.326750000554217"
      ]
     },
     "execution_count": 85,
     "metadata": {},
     "output_type": "execute_result"
    }
   ],
   "source": [
    "df.loc[df['День недели']==3, 'Open rate'].mean()"
   ]
  },
  {
   "cell_type": "code",
   "execution_count": 86,
   "id": "616e9008-269d-4fcc-8de3-b7d86c29962f",
   "metadata": {
    "tags": []
   },
   "outputs": [
    {
     "data": {
      "text/plain": [
       "13.637247191276646"
      ]
     },
     "execution_count": 86,
     "metadata": {},
     "output_type": "execute_result"
    }
   ],
   "source": [
    "df.loc[df['День недели']!=3, 'Open rate'].mean()"
   ]
  },
  {
   "cell_type": "markdown",
   "id": "b1c6c88b-3ec0-4fe7-bb45-a1c34e044e56",
   "metadata": {
    "tags": []
   },
   "source": [
    "Сформулируем нулевую и альтернативную гипотезы и зададим пороговое значение *alpha*:\n",
    "```\n",
    "H_0: Средний Open rate по средам = Средний Open rate в другие дни`\n",
    "H_a: Средний Open rate по средам ≠ Средний Open rate в другие дни`\n",
    "alpha = 0.05\n",
    "```"
   ]
  },
  {
   "cell_type": "code",
   "execution_count": 87,
   "id": "86011af1-16cb-4260-9498-b4f8bfe23570",
   "metadata": {
    "tags": []
   },
   "outputs": [
    {
     "name": "stdout",
     "output_type": "stream",
     "text": [
      "p-value: 0.24560671580060248\n",
      "Не получилось отвергнуть нулевую гипотезу\n"
     ]
    }
   ],
   "source": [
    "# results = вызов метода для проверки гипотезы\n",
    "results = st.ttest_ind(df.loc[df['День недели']==3, 'Open rate'], \n",
    "                       df.loc[df['День недели']!=3, 'Open rate'],\n",
    "                      equal_var=False)\n",
    "\n",
    "# alpha = зададим значение уровня значимости\n",
    "alpha = .05\n",
    "\n",
    "# вывод значения p-value на экран \n",
    "print('p-value:', results.pvalue)\n",
    "# условный оператор с выводом строки с ответом\n",
    "if results.pvalue < alpha:\n",
    "    print('Отвергаем нулевую гипотезу')\n",
    "# если p-value окажется меньше него, отвергнем гипотезу\n",
    "else:\n",
    "    print('Не получилось отвергнуть нулевую гипотезу') "
   ]
  },
  {
   "cell_type": "markdown",
   "id": "707b8cbc-3219-4845-8295-9b2d18bbc329",
   "metadata": {},
   "source": [
    "Нулевая гипотеза не отвергается, значит нельзя сделать вывод, что средние значения Open rate в среду и в другие дни отличаются."
   ]
  },
  {
   "cell_type": "markdown",
   "id": "bccfce0d-fb73-4a20-af79-844337ce25b6",
   "metadata": {},
   "source": [
    "## Вывод"
   ]
  },
  {
   "cell_type": "markdown",
   "id": "de2f27e2-82d9-45a4-aa1b-c02c07acff65",
   "metadata": {},
   "source": []
  }
 ],
 "metadata": {
  "kernelspec": {
   "display_name": "Python 3 (ipykernel)",
   "language": "python",
   "name": "python3"
  },
  "language_info": {
   "codemirror_mode": {
    "name": "ipython",
    "version": 3
   },
   "file_extension": ".py",
   "mimetype": "text/x-python",
   "name": "python",
   "nbconvert_exporter": "python",
   "pygments_lexer": "ipython3",
   "version": "3.11.7"
  }
 },
 "nbformat": 4,
 "nbformat_minor": 5
}
